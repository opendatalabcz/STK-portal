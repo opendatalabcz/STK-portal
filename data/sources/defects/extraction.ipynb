{
  "cells": [
    {
      "attachments": {},
      "cell_type": "markdown",
      "metadata": {},
      "source": [
        "# Zpracování číselníku závad\n",
        "Vstupem je část HTML souboru z webu zakonyprolidi.cz s tabulkou závad.\n",
        "Tato část má odebranou hlavičku tabulky a je uložená jako XML soubor. \n",
        "\n",
        "## Tabulka jednotlivých závad"
      ]
    },
    {
      "cell_type": "code",
      "execution_count": 1,
      "metadata": {
        "id": "wW3JLkguJStY"
      },
      "outputs": [],
      "source": [
        "import pandas as pd\n",
        "import numpy as np"
      ]
    },
    {
      "cell_type": "code",
      "execution_count": 2,
      "metadata": {
        "id": "Wmw2BWtpg2oz"
      },
      "outputs": [],
      "source": [
        "from xml.etree import ElementTree as ET\n",
        "\n",
        "input_file = 'data/defect_list.xml'\n",
        "\n",
        "# #removing newlines\n",
        "# clean = open(input_file, encoding='utf8').read().replace('\\n', '')\n",
        "# f = open(input_file, 'w', encoding='utf8')\n",
        "# f.write(clean)\n",
        "# f.close()\n",
        "\n",
        "# Cols for a table of concrete issues\n",
        "Code = []\n",
        "Description = []\n",
        "Type = []\n",
        "\n",
        "# Cols for a table of issue categories\n",
        "Prefix = []\n",
        "Nazev = []\n",
        "\n",
        "\n",
        "root = ET.parse(input_file).getroot()\n",
        "for row in root:\n",
        "    # Table of concrete issues\n",
        "    if len(row) == 4:\n",
        "      Code.append(row[1].text)\n",
        "      Description.append(row[2].text)\n",
        "      Type.append(row[3].text)\n",
        "    elif len(row) == 3 and len(row[2].text) == 1: # The second condition is for skipping section headings\n",
        "      Code.append(row[0].text)\n",
        "      Description.append(row[1].text)\n",
        "      Type.append(row[2].text)\n",
        "    # Table of issue categories\n",
        "    if len(row) == 1 and row[0].text[2] == ' ': # Starts with a digit, dot and space (followed by the issue category name)\n",
        "        Prefix.append(row[0].text[0])\n",
        "        Nazev.append(row[0].text.split(' ', maxsplit=1)[1].lower())\n",
        "\n",
        "\n",
        "zavady = pd.DataFrame({'Code': Code, 'Description': Description, 'Type': Type})\n",
        "zavady.to_csv('data/defect_list.csv')\n",
        "\n",
        "# kategorie = pd.DataFrame({'Prefix': Prefix, 'Nazev': Nazev})\n",
        "# kategorie.set_index('Prefix', inplace=True)\n",
        "# kategorie.to_csv('hlavni_kategorie_zavad.csv')"
      ]
    },
    {
      "cell_type": "code",
      "execution_count": 5,
      "metadata": {
        "colab": {
          "base_uri": "https://localhost:8080/",
          "height": 363
        },
        "id": "KQetGYCv0948",
        "outputId": "3451662e-0829-409f-9d25-c3f4b26d5b9f"
      },
      "outputs": [
        {
          "data": {
            "text/html": [
              "<div>\n",
              "<style scoped>\n",
              "    .dataframe tbody tr th:only-of-type {\n",
              "        vertical-align: middle;\n",
              "    }\n",
              "\n",
              "    .dataframe tbody tr th {\n",
              "        vertical-align: top;\n",
              "    }\n",
              "\n",
              "    .dataframe thead th {\n",
              "        text-align: right;\n",
              "    }\n",
              "</style>\n",
              "<table border=\"1\" class=\"dataframe\">\n",
              "  <thead>\n",
              "    <tr style=\"text-align: right;\">\n",
              "      <th></th>\n",
              "      <th>Kod</th>\n",
              "      <th>Popis</th>\n",
              "      <th>Typ</th>\n",
              "    </tr>\n",
              "  </thead>\n",
              "  <tbody>\n",
              "    <tr>\n",
              "      <th>0</th>\n",
              "      <td>0.1.1</td>\n",
              "      <td>Vozidlo, které podléhá registraci, není opatře...</td>\n",
              "      <td>B</td>\n",
              "    </tr>\n",
              "    <tr>\n",
              "      <th>1</th>\n",
              "      <td>0.1.2.1</td>\n",
              "      <td>Uchycení tabulky registrační značky je uvolněn...</td>\n",
              "      <td>A</td>\n",
              "    </tr>\n",
              "    <tr>\n",
              "      <th>2</th>\n",
              "      <td>0.1.2.2</td>\n",
              "      <td>Uchycení tabulky registrační značky není spole...</td>\n",
              "      <td>B</td>\n",
              "    </tr>\n",
              "    <tr>\n",
              "      <th>3</th>\n",
              "      <td>0.1.2.3</td>\n",
              "      <td>Způsob uchycení tabulky registrační značky neo...</td>\n",
              "      <td>B</td>\n",
              "    </tr>\n",
              "    <tr>\n",
              "      <th>4</th>\n",
              "      <td>0.1.3.1</td>\n",
              "      <td>Poškození některého písmenného nebo číselného ...</td>\n",
              "      <td>A</td>\n",
              "    </tr>\n",
              "    <tr>\n",
              "      <th>5</th>\n",
              "      <td>0.1.3.2</td>\n",
              "      <td>Poškození některého písmenného nebo číselného ...</td>\n",
              "      <td>B</td>\n",
              "    </tr>\n",
              "    <tr>\n",
              "      <th>6</th>\n",
              "      <td>0.1.3.3</td>\n",
              "      <td>Nepovolená úprava (např. zmenšení rozměrů) tab...</td>\n",
              "      <td>B</td>\n",
              "    </tr>\n",
              "    <tr>\n",
              "      <th>7</th>\n",
              "      <td>0.1.4</td>\n",
              "      <td>Údaje uvedené na tabulce registrační značky ne...</td>\n",
              "      <td>B</td>\n",
              "    </tr>\n",
              "    <tr>\n",
              "      <th>8</th>\n",
              "      <td>0.1.5.1</td>\n",
              "      <td>Neschválená úprava umístění tabulky registračn...</td>\n",
              "      <td>B</td>\n",
              "    </tr>\n",
              "    <tr>\n",
              "      <th>9</th>\n",
              "      <td>0.1.5.2</td>\n",
              "      <td>Tabulka registrační značky není umístěná kolmo...</td>\n",
              "      <td>B</td>\n",
              "    </tr>\n",
              "  </tbody>\n",
              "</table>\n",
              "</div>"
            ],
            "text/plain": [
              "       Kod                                              Popis Typ\n",
              "0    0.1.1  Vozidlo, které podléhá registraci, není opatře...   B\n",
              "1  0.1.2.1  Uchycení tabulky registrační značky je uvolněn...   A\n",
              "2  0.1.2.2  Uchycení tabulky registrační značky není spole...   B\n",
              "3  0.1.2.3  Způsob uchycení tabulky registrační značky neo...   B\n",
              "4  0.1.3.1  Poškození některého písmenného nebo číselného ...   A\n",
              "5  0.1.3.2  Poškození některého písmenného nebo číselného ...   B\n",
              "6  0.1.3.3  Nepovolená úprava (např. zmenšení rozměrů) tab...   B\n",
              "7    0.1.4  Údaje uvedené na tabulce registrační značky ne...   B\n",
              "8  0.1.5.1  Neschválená úprava umístění tabulky registračn...   B\n",
              "9  0.1.5.2  Tabulka registrační značky není umístěná kolmo...   B"
            ]
          },
          "execution_count": 5,
          "metadata": {},
          "output_type": "execute_result"
        }
      ],
      "source": [
        "zavady.head(10)"
      ]
    },
    {
      "cell_type": "code",
      "execution_count": 15,
      "metadata": {},
      "outputs": [
        {
          "data": {
            "text/html": [
              "<div>\n",
              "<style scoped>\n",
              "    .dataframe tbody tr th:only-of-type {\n",
              "        vertical-align: middle;\n",
              "    }\n",
              "\n",
              "    .dataframe tbody tr th {\n",
              "        vertical-align: top;\n",
              "    }\n",
              "\n",
              "    .dataframe thead th {\n",
              "        text-align: right;\n",
              "    }\n",
              "</style>\n",
              "<table border=\"1\" class=\"dataframe\">\n",
              "  <thead>\n",
              "    <tr style=\"text-align: right;\">\n",
              "      <th></th>\n",
              "      <th>Nazev</th>\n",
              "    </tr>\n",
              "    <tr>\n",
              "      <th>Prefix</th>\n",
              "      <th></th>\n",
              "    </tr>\n",
              "  </thead>\n",
              "  <tbody>\n",
              "    <tr>\n",
              "      <th>0</th>\n",
              "      <td>identifikace vozidla</td>\n",
              "    </tr>\n",
              "    <tr>\n",
              "      <th>1</th>\n",
              "      <td>brzdové zařízení</td>\n",
              "    </tr>\n",
              "    <tr>\n",
              "      <th>2</th>\n",
              "      <td>řízení</td>\n",
              "    </tr>\n",
              "    <tr>\n",
              "      <th>3</th>\n",
              "      <td>výhledy</td>\n",
              "    </tr>\n",
              "    <tr>\n",
              "      <th>4</th>\n",
              "      <td>svítilny, světlomety, odrazky a elektrické zař...</td>\n",
              "    </tr>\n",
              "    <tr>\n",
              "      <th>5</th>\n",
              "      <td>nápravy, kola, pneumatiky a zavěšení náprav</td>\n",
              "    </tr>\n",
              "    <tr>\n",
              "      <th>6</th>\n",
              "      <td>podvozek a části připevněné k podvozku</td>\n",
              "    </tr>\n",
              "    <tr>\n",
              "      <th>7</th>\n",
              "      <td>jiné vybavení</td>\n",
              "    </tr>\n",
              "    <tr>\n",
              "      <th>8</th>\n",
              "      <td>obtěžování okolí</td>\n",
              "    </tr>\n",
              "    <tr>\n",
              "      <th>9</th>\n",
              "      <td>další prohlídky vozidel k dopravě osob kategor...</td>\n",
              "    </tr>\n",
              "  </tbody>\n",
              "</table>\n",
              "</div>"
            ],
            "text/plain": [
              "                                                    Nazev\n",
              "Prefix                                                   \n",
              "0                                    identifikace vozidla\n",
              "1                                        brzdové zařízení\n",
              "2                                                  řízení\n",
              "3                                                 výhledy\n",
              "4       svítilny, světlomety, odrazky a elektrické zař...\n",
              "5             nápravy, kola, pneumatiky a zavěšení náprav\n",
              "6                  podvozek a části připevněné k podvozku\n",
              "7                                           jiné vybavení\n",
              "8                                        obtěžování okolí\n",
              "9       další prohlídky vozidel k dopravě osob kategor..."
            ]
          },
          "execution_count": 15,
          "metadata": {},
          "output_type": "execute_result"
        }
      ],
      "source": [
        "# kategorie.head(20)"
      ]
    },
    {
      "cell_type": "code",
      "execution_count": 4,
      "metadata": {
        "colab": {
          "base_uri": "https://localhost:8080/"
        },
        "id": "OboYwL3z5NpS",
        "outputId": "63fd0918-51e9-4ac4-d3fa-113a8f42aa68"
      },
      "outputs": [
        {
          "data": {
            "text/plain": [
              "1195"
            ]
          },
          "execution_count": 4,
          "metadata": {},
          "output_type": "execute_result"
        }
      ],
      "source": [
        "len(zavady)"
      ]
    }
  ],
  "metadata": {
    "colab": {
      "provenance": []
    },
    "kernelspec": {
      "display_name": ".venv",
      "language": "python",
      "name": "python3"
    },
    "language_info": {
      "codemirror_mode": {
        "name": "ipython",
        "version": 3
      },
      "file_extension": ".py",
      "mimetype": "text/x-python",
      "name": "python",
      "nbconvert_exporter": "python",
      "pygments_lexer": "ipython3",
      "version": "3.10.10"
    },
    "vscode": {
      "interpreter": {
        "hash": "a5f3b0dbf09de4ab2a02a5bdcac051ab84a68f2aee1069a9b95184b49085e0cf"
      }
    }
  },
  "nbformat": 4,
  "nbformat_minor": 0
}
