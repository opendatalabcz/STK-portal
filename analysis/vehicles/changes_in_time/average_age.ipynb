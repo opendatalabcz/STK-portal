{
 "cells": [
  {
   "cell_type": "markdown",
   "metadata": {},
   "source": [
    "# Average age\n",
    "Average age of vehicles in the years covered by the inspection dataset. There is no data about time of vehicle destruction in the register dataset."
   ]
  },
  {
   "cell_type": "code",
   "execution_count": 1,
   "metadata": {
    "tags": []
   },
   "outputs": [],
   "source": [
    "import numpy as np\n",
    "import pandas as pd\n",
    "\n",
    "import matplotlib.pyplot as plt\n",
    "import seaborn as sns\n",
    "sns.set_theme()\n",
    "plt.rcParams['figure.figsize'] = (10, 6)\n",
    "pd.options.display.max_columns = 50\n",
    "pd.options.display.max_rows = 20\n",
    "\n",
    "inspections_data_path = '../../../inspections/data/'\n"
   ]
  },
  {
   "cell_type": "markdown",
   "metadata": {},
   "source": [
    "## Load data"
   ]
  },
  {
   "cell_type": "code",
   "execution_count": 2,
   "metadata": {
    "tags": []
   },
   "outputs": [
    {
     "name": "stdout",
     "output_type": "stream",
     "text": [
      "2018\n",
      "2019\n",
      "2020\n",
      "2021\n",
      "2022\n"
     ]
    }
   ],
   "source": [
    "from genericpath import exists\n",
    "\n",
    "\n",
    "inspections_cols = [\n",
    "    'VehicleType',\n",
    "    'Date',\n",
    "    'AgeDays',\n",
    "]\n",
    "\n",
    "\n",
    "def load_year(year):\n",
    "    df_all = None\n",
    "\n",
    "    for name in [f'{year}-{month:02}' for month in range(1, 13)]:\n",
    "        # print(f'Load: {name}')\n",
    "        if exists(f'{inspections_data_path}nosync/data_csv/{name}.csv'):\n",
    "            df = pd.read_csv(f'{inspections_data_path}nosync/data_csv/{name}.csv',\n",
    "                             usecols=inspections_cols, index_col=False)\n",
    "            df['Date'] = pd.to_datetime(df['Date'])\n",
    "\n",
    "        if df_all is None:\n",
    "            df_all = df\n",
    "        else:\n",
    "            df_all = pd.concat([df_all, df])\n",
    "\n",
    "    return df_all\n",
    "\n",
    "\n",
    "years = [\n",
    "    '2018',\n",
    "    '2019',\n",
    "    '2020',\n",
    "    '2021',\n",
    "    '2022'\n",
    "]\n",
    "dfs = {}\n",
    "\n",
    "for year in years:\n",
    "    print(year)\n",
    "    \n",
    "    df = load_year(year)\n",
    "    df = df[df['VehicleType'] == 'OSOBNÍ AUTOMOBIL']\n",
    "    dfs[year] = df\n"
   ]
  },
  {
   "cell_type": "code",
   "execution_count": 3,
   "metadata": {
    "tags": []
   },
   "outputs": [
    {
     "data": {
      "text/html": [
       "<div>\n",
       "<style scoped>\n",
       "    .dataframe tbody tr th:only-of-type {\n",
       "        vertical-align: middle;\n",
       "    }\n",
       "\n",
       "    .dataframe tbody tr th {\n",
       "        vertical-align: top;\n",
       "    }\n",
       "\n",
       "    .dataframe thead th {\n",
       "        text-align: right;\n",
       "    }\n",
       "</style>\n",
       "<table border=\"1\" class=\"dataframe\">\n",
       "  <thead>\n",
       "    <tr style=\"text-align: right;\">\n",
       "      <th></th>\n",
       "      <th>Date</th>\n",
       "      <th>VehicleType</th>\n",
       "      <th>AgeDays</th>\n",
       "    </tr>\n",
       "  </thead>\n",
       "  <tbody>\n",
       "    <tr>\n",
       "      <th>3</th>\n",
       "      <td>2019-01-14 07:37:22.723</td>\n",
       "      <td>OSOBNÍ AUTOMOBIL</td>\n",
       "      <td>10970</td>\n",
       "    </tr>\n",
       "    <tr>\n",
       "      <th>4</th>\n",
       "      <td>2019-01-29 10:58:24.557</td>\n",
       "      <td>OSOBNÍ AUTOMOBIL</td>\n",
       "      <td>6823</td>\n",
       "    </tr>\n",
       "    <tr>\n",
       "      <th>5</th>\n",
       "      <td>2019-01-31 05:56:00.390</td>\n",
       "      <td>OSOBNÍ AUTOMOBIL</td>\n",
       "      <td>6880</td>\n",
       "    </tr>\n",
       "    <tr>\n",
       "      <th>6</th>\n",
       "      <td>2019-01-10 11:23:41.817</td>\n",
       "      <td>OSOBNÍ AUTOMOBIL</td>\n",
       "      <td>6587</td>\n",
       "    </tr>\n",
       "    <tr>\n",
       "      <th>7</th>\n",
       "      <td>2019-01-15 09:34:57.943</td>\n",
       "      <td>OSOBNÍ AUTOMOBIL</td>\n",
       "      <td>8240</td>\n",
       "    </tr>\n",
       "  </tbody>\n",
       "</table>\n",
       "</div>"
      ],
      "text/plain": [
       "                     Date       VehicleType  AgeDays\n",
       "3 2019-01-14 07:37:22.723  OSOBNÍ AUTOMOBIL    10970\n",
       "4 2019-01-29 10:58:24.557  OSOBNÍ AUTOMOBIL     6823\n",
       "5 2019-01-31 05:56:00.390  OSOBNÍ AUTOMOBIL     6880\n",
       "6 2019-01-10 11:23:41.817  OSOBNÍ AUTOMOBIL     6587\n",
       "7 2019-01-15 09:34:57.943  OSOBNÍ AUTOMOBIL     8240"
      ]
     },
     "execution_count": 3,
     "metadata": {},
     "output_type": "execute_result"
    }
   ],
   "source": [
    "dfs['2019'].head()"
   ]
  },
  {
   "cell_type": "markdown",
   "metadata": {},
   "source": [
    "## Compute"
   ]
  },
  {
   "cell_type": "code",
   "execution_count": 4,
   "metadata": {
    "tags": []
   },
   "outputs": [
    {
     "data": {
      "text/html": [
       "<div>\n",
       "<style scoped>\n",
       "    .dataframe tbody tr th:only-of-type {\n",
       "        vertical-align: middle;\n",
       "    }\n",
       "\n",
       "    .dataframe tbody tr th {\n",
       "        vertical-align: top;\n",
       "    }\n",
       "\n",
       "    .dataframe thead th {\n",
       "        text-align: right;\n",
       "    }\n",
       "</style>\n",
       "<table border=\"1\" class=\"dataframe\">\n",
       "  <thead>\n",
       "    <tr style=\"text-align: right;\">\n",
       "      <th></th>\n",
       "      <th>Mean age</th>\n",
       "      <th>Median age</th>\n",
       "    </tr>\n",
       "    <tr>\n",
       "      <th>Year</th>\n",
       "      <th></th>\n",
       "      <th></th>\n",
       "    </tr>\n",
       "  </thead>\n",
       "  <tbody>\n",
       "    <tr>\n",
       "      <th>2018</th>\n",
       "      <td>12.340245</td>\n",
       "      <td>12.380561</td>\n",
       "    </tr>\n",
       "    <tr>\n",
       "      <th>2019</th>\n",
       "      <td>15.054461</td>\n",
       "      <td>15.167693</td>\n",
       "    </tr>\n",
       "    <tr>\n",
       "      <th>2020</th>\n",
       "      <td>15.625090</td>\n",
       "      <td>15.759069</td>\n",
       "    </tr>\n",
       "    <tr>\n",
       "      <th>2021</th>\n",
       "      <td>15.885407</td>\n",
       "      <td>16.013689</td>\n",
       "    </tr>\n",
       "    <tr>\n",
       "      <th>2022</th>\n",
       "      <td>16.381635</td>\n",
       "      <td>16.476386</td>\n",
       "    </tr>\n",
       "  </tbody>\n",
       "</table>\n",
       "</div>"
      ],
      "text/plain": [
       "       Mean age  Median age\n",
       "Year                       \n",
       "2018  12.340245   12.380561\n",
       "2019  15.054461   15.167693\n",
       "2020  15.625090   15.759069\n",
       "2021  15.885407   16.013689\n",
       "2022  16.381635   16.476386"
      ]
     },
     "execution_count": 4,
     "metadata": {},
     "output_type": "execute_result"
    }
   ],
   "source": [
    "df_stats = pd.DataFrame({'Year': years})\n",
    "df_stats = df_stats.set_index('Year')\n",
    "\n",
    "mean_ages = []\n",
    "median_ages = []\n",
    "for year, df in dfs.items():\n",
    "    dfx = df[(df['Date'] >= f'{year}-01-01') & (df['Date'] < f'{int(year) + 1}-01-01')]\n",
    "    mean_ages.append(dfx['AgeDays'].mean() / 365.25)\n",
    "    median_ages.append(dfx['AgeDays'].median() / 365.25)\n",
    "\n",
    "df_stats['Mean age'] = mean_ages\n",
    "df_stats['Median age'] = median_ages\n",
    "\n",
    "df_stats\n",
    "\n"
   ]
  },
  {
   "cell_type": "markdown",
   "metadata": {},
   "source": [
    "## Plot"
   ]
  },
  {
   "cell_type": "code",
   "execution_count": 5,
   "metadata": {
    "tags": []
   },
   "outputs": [
    {
     "data": {
      "image/png": "[encoded data removed]",
      "text/plain": [
       "<Figure size 1000x600 with 1 Axes>"
      ]
     },
     "metadata": {},
     "output_type": "display_data"
    }
   ],
   "source": [
    "# sns.lineplot(y=df_stats['MedianAge'], x=years)\n",
    "# sns.lineplot(y=df_stats['MeanAge'], x=years)\n",
    "sns.lineplot(df_stats)\n",
    "plt.title('Median age of passenger vehicles')\n",
    "# plt.grid()\n",
    "plt.show()"
   ]
  },
  {
   "cell_type": "markdown",
   "metadata": {},
   "source": [
    "## Examine suspiciously low value in 2018"
   ]
  },
  {
   "cell_type": "code",
   "execution_count": 6,
   "metadata": {
    "tags": []
   },
   "outputs": [
    {
     "data": {
      "text/html": [
       "<div>\n",
       "<style scoped>\n",
       "    .dataframe tbody tr th:only-of-type {\n",
       "        vertical-align: middle;\n",
       "    }\n",
       "\n",
       "    .dataframe tbody tr th {\n",
       "        vertical-align: top;\n",
       "    }\n",
       "\n",
       "    .dataframe thead th {\n",
       "        text-align: right;\n",
       "    }\n",
       "</style>\n",
       "<table border=\"1\" class=\"dataframe\">\n",
       "  <thead>\n",
       "    <tr style=\"text-align: right;\">\n",
       "      <th></th>\n",
       "      <th>Date</th>\n",
       "      <th>VehicleType</th>\n",
       "      <th>AgeDays</th>\n",
       "    </tr>\n",
       "  </thead>\n",
       "  <tbody>\n",
       "    <tr>\n",
       "      <th>0</th>\n",
       "      <td>2018-01-02 11:03:12.833</td>\n",
       "      <td>OSOBNÍ AUTOMOBIL</td>\n",
       "      <td>2518</td>\n",
       "    </tr>\n",
       "    <tr>\n",
       "      <th>1</th>\n",
       "      <td>2018-01-02 11:15:08.083</td>\n",
       "      <td>OSOBNÍ AUTOMOBIL</td>\n",
       "      <td>358</td>\n",
       "    </tr>\n",
       "    <tr>\n",
       "      <th>2</th>\n",
       "      <td>2018-01-02 11:30:25.420</td>\n",
       "      <td>OSOBNÍ AUTOMOBIL</td>\n",
       "      <td>2744</td>\n",
       "    </tr>\n",
       "    <tr>\n",
       "      <th>3</th>\n",
       "      <td>2018-01-02 11:26:50.967</td>\n",
       "      <td>OSOBNÍ AUTOMOBIL</td>\n",
       "      <td>1926</td>\n",
       "    </tr>\n",
       "    <tr>\n",
       "      <th>4</th>\n",
       "      <td>2018-01-02 12:11:56.770</td>\n",
       "      <td>OSOBNÍ AUTOMOBIL</td>\n",
       "      <td>2927</td>\n",
       "    </tr>\n",
       "  </tbody>\n",
       "</table>\n",
       "</div>"
      ],
      "text/plain": [
       "                     Date       VehicleType  AgeDays\n",
       "0 2018-01-02 11:03:12.833  OSOBNÍ AUTOMOBIL     2518\n",
       "1 2018-01-02 11:15:08.083  OSOBNÍ AUTOMOBIL      358\n",
       "2 2018-01-02 11:30:25.420  OSOBNÍ AUTOMOBIL     2744\n",
       "3 2018-01-02 11:26:50.967  OSOBNÍ AUTOMOBIL     1926\n",
       "4 2018-01-02 12:11:56.770  OSOBNÍ AUTOMOBIL     2927"
      ]
     },
     "execution_count": 6,
     "metadata": {},
     "output_type": "execute_result"
    }
   ],
   "source": [
    "inspections_cols = [\n",
    "    'VehicleType',\n",
    "    \n",
    "    'Date',\n",
    "    'AgeDays',\n",
    "]"
   ]
  },
  {
   "cell_type": "markdown",
   "metadata": {},
   "source": [
    "## Trend"
   ]
  },
  {
   "cell_type": "markdown",
   "metadata": {},
   "source": [
    "### Basic prediction\n",
    "Use ARMA to obtain a prediction."
   ]
  },
  {
   "cell_type": "code",
   "execution_count": 41,
   "metadata": {},
   "outputs": [
    {
     "data": {
      "text/plain": [
       "Year\n",
       "2018    12.380561\n",
       "2019    15.167693\n",
       "2020    15.759069\n",
       "2021    16.013689\n",
       "2022    16.476386\n",
       "Name: Median age, dtype: float64"
      ]
     },
     "execution_count": 41,
     "metadata": {},
     "output_type": "execute_result"
    }
   ],
   "source": [
    "df_stats['Median age']"
   ]
  },
  {
   "cell_type": "code",
   "execution_count": 57,
   "metadata": {},
   "outputs": [
    {
     "name": "stderr",
     "output_type": "stream",
     "text": [
      "/home/gemsee/school/2023-2024_ls/dp/.venv/lib/python3.10/site-packages/statsmodels/tsa/base/tsa_model.py:471: ValueWarning: No frequency information was provided, so inferred frequency AS-JAN will be used.\n",
      "  self._init_dates(dates, freq)\n",
      "/home/gemsee/school/2023-2024_ls/dp/.venv/lib/python3.10/site-packages/statsmodels/tsa/base/tsa_model.py:471: ValueWarning: No frequency information was provided, so inferred frequency AS-JAN will be used.\n",
      "  self._init_dates(dates, freq)\n",
      "/home/gemsee/school/2023-2024_ls/dp/.venv/lib/python3.10/site-packages/statsmodels/tsa/base/tsa_model.py:471: ValueWarning: No frequency information was provided, so inferred frequency AS-JAN will be used.\n",
      "  self._init_dates(dates, freq)\n",
      "/home/gemsee/school/2023-2024_ls/dp/.venv/lib/python3.10/site-packages/statsmodels/tsa/statespace/sarimax.py:966: UserWarning: Non-stationary starting autoregressive parameters found. Using zeros as starting parameters.\n",
      "  warn('Non-stationary starting autoregressive parameters'\n",
      "/home/gemsee/school/2023-2024_ls/dp/.venv/lib/python3.10/site-packages/statsmodels/tsa/statespace/sarimax.py:978: UserWarning: Non-invertible starting MA parameters found. Using zeros as starting parameters.\n",
      "  warn('Non-invertible starting MA parameters found.'\n",
      "/home/gemsee/school/2023-2024_ls/dp/.venv/lib/python3.10/site-packages/statsmodels/base/model.py:604: ConvergenceWarning: Maximum Likelihood optimization failed to converge. Check mle_retvals\n",
      "  warnings.warn(\"Maximum Likelihood optimization failed to \"\n"
     ]
    }
   ],
   "source": [
    "from statsmodels.tsa.arima.model import ARIMA\n",
    "\n",
    "arma_mod = ARIMA(df_stats['Mean age'], order=(1, 0, 1), trend=\"n\")\n",
    "arma_res = arma_mod.fit()"
   ]
  },
  {
   "cell_type": "code",
   "execution_count": 61,
   "metadata": {},
   "outputs": [
    {
     "data": {
      "text/plain": [
       "2018-01-01     0.000000\n",
       "2019-01-01    12.265984\n",
       "2020-01-01    16.269821\n",
       "2021-01-01    15.007950\n",
       "2022-01-01    16.350567\n",
       "2023-01-01    16.209368\n",
       "2024-01-01    16.014418\n",
       "2025-01-01    15.821813\n",
       "2026-01-01    15.631525\n",
       "2027-01-01    15.443525\n",
       "2028-01-01    15.257786\n",
       "Freq: AS-JAN, Name: predicted_mean, dtype: float64"
      ]
     },
     "execution_count": 61,
     "metadata": {},
     "output_type": "execute_result"
    }
   ],
   "source": [
    "arma_res.predict(start=0, end=10)"
   ]
  }
 ],
 "metadata": {
  "kernelspec": {
   "display_name": "Python 3 (ipykernel)",
   "language": "python",
   "name": "python3"
  },
  "language_info": {
   "codemirror_mode": {
    "name": "ipython",
    "version": 3
   },
   "file_extension": ".py",
   "mimetype": "text/x-python",
   "name": "python",
   "nbconvert_exporter": "python",
   "pygments_lexer": "ipython3",
   "version": "3.11.3"
  },
  "vscode": {
   "interpreter": {
    "hash": "a5f3b0dbf09de4ab2a02a5bdcac051ab84a68f2aee1069a9b95184b49085e0cf"
   }
  }
 },
 "nbformat": 4,
 "nbformat_minor": 4
}
